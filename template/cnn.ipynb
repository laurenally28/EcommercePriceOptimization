{
 "cells": [
  {
   "cell_type": "code",
   "execution_count": 1,
   "id": "28ff7b74-152a-4d40-b46c-1f9d12748441",
   "metadata": {},
   "outputs": [],
   "source": [
    "import numpy as np\n",
    "import matplotlib.pyplot as plt\n",
    "\n",
    "# image matrix\n",
    "X = np.array([[1, 1, 1, 0, 0, 0],\n",
    "              [1, 0, 1, 0, 0, 0],\n",
    "              [1, 1, 1, 1, 0, 0],\n",
    "              [0, 0, 1, 1, 0, 0],\n",
    "              [0, 0, 0, 0, 1, 0],\n",
    "              [0, 0, 0, 0, 0, 1]])\n",
    "\n",
    "# write a function that will display the image\n",
    "def plot_img(x, im_shape=(6, 6)):\n",
    "    plt.imshow(x.reshape(im_shape), cmap='gray')\n",
    "    plt.xticks([])\n",
    "    plt.yticks([])\n",
    "    plt.gcf().set_size_inches(4, 4)"
   ]
  },
  {
   "cell_type": "code",
   "execution_count": 2,
   "id": "a0f218e1-a60c-421a-b1b4-4c08b60e9c99",
   "metadata": {},
   "outputs": [
    {
     "data": {
      "image/png": "[encoded data removed]",
      "text/plain": [
       "<Figure size 400x400 with 1 Axes>"
      ]
     },
     "metadata": {},
     "output_type": "display_data"
    }
   ],
   "source": [
    "# cmap apparently maps 0 to black and 1 to white, which is opposite of the notes\n",
    "# but not a big deal, still the same idea\n",
    "plot_img(X)"
   ]
  },
  {
   "cell_type": "code",
   "execution_count": 3,
   "id": "55a03885-4254-41f3-ab23-02cff87aed3f",
   "metadata": {},
   "outputs": [
    {
     "data": {
      "text/plain": [
       "array([[-2.,  3., -2.,  0.],\n",
       "       [ 5.,  3.,  3., -1.],\n",
       "       [ 0.,  5.,  3., -2.],\n",
       "       [ 0., -1.,  0.,  5.]])"
      ]
     },
     "execution_count": 3,
     "metadata": {},
     "output_type": "execute_result"
    }
   ],
   "source": [
    "# sharpening kernel\n",
    "W = np.array([[0, -1, 0],\n",
    "              [-1, 5, 1],\n",
    "              [0, -1, 0]])\n",
    "\n",
    "# convolution function (Simplified for square images/kernels only)\n",
    "def convMat(X, W):\n",
    "    # get the dimensions of the kernel and input\n",
    "    k, _ = W.shape\n",
    "    p, _ = X.shape\n",
    "\n",
    "    # calculate the dimensions of the output matrix\n",
    "    q = p - k + 1\n",
    "    G = np.zeros((q, q))\n",
    "\n",
    "    # do the thing\n",
    "    for m in range(q):\n",
    "        for n in range(q):\n",
    "            submatrix = X[m:m+k, n:n+k]\n",
    "            G[m, n] = np.sum(W * submatrix)\n",
    "    \n",
    "    return G\n",
    "\n",
    "G = convMat(X, W)\n",
    "G"
   ]
  },
  {
   "cell_type": "code",
   "execution_count": 4,
   "id": "7c39dd88-9dd8-4f39-9e74-886f108adf9e",
   "metadata": {},
   "outputs": [
    {
     "data": {
      "image/png": "[encoded data removed]",
      "text/plain": [
       "<Figure size 400x400 with 1 Axes>"
      ]
     },
     "metadata": {},
     "output_type": "display_data"
    }
   ],
   "source": [
    "# convoluted image\n",
    "plot_img(G, im_shape=G.shape)"
   ]
  },
  {
   "cell_type": "code",
   "execution_count": 5,
   "id": "a285aae1-b94d-445b-ab18-cce840236e40",
   "metadata": {},
   "outputs": [
    {
     "data": {
      "text/plain": [
       "array([1, 1, 1, 0, 0, 0, 1, 0, 1, 0, 0, 0, 1, 1, 1, 1, 0, 0, 0, 0, 1, 1,\n",
       "       0, 0, 0, 0, 0, 0, 1, 0, 0, 0, 0, 0, 0, 1])"
      ]
     },
     "execution_count": 5,
     "metadata": {},
     "output_type": "execute_result"
    }
   ],
   "source": [
    "# note (for future reference) that the plot_img function takes a vector\n",
    "# images will be stored in a matrix where each row is a flattened image:\n",
    "X.flatten()"
   ]
  },
  {
   "cell_type": "code",
   "execution_count": 6,
   "id": "766ecff0-8474-49ac-9945-fce5dad28343",
   "metadata": {},
   "outputs": [
    {
     "data": {
      "image/png": "[encoded data removed]",
      "text/plain": [
       "<Figure size 400x400 with 1 Axes>"
      ]
     },
     "metadata": {},
     "output_type": "display_data"
    }
   ],
   "source": [
    "plot_img(X.flatten())"
   ]
  },
  {
   "cell_type": "code",
   "execution_count": 7,
   "id": "ef0e9085-f59e-4d76-80f9-735b77ed8042",
   "metadata": {},
   "outputs": [],
   "source": [
    "# I started running into PATH and DLL errors when I tried to update/re-install keras\n",
    "# and tensorflow on my local machine, so the examples using the default python libraries\n",
    "# for CNNs will be presented using Google Colab and the cnn_keras_colab.ipynb file"
   ]
  },
  {
   "cell_type": "code",
   "execution_count": null,
   "id": "d6040191-df02-4837-b420-dfdec78f36e3",
   "metadata": {},
   "outputs": [],
   "source": []
  }
 ],
 "metadata": {
  "kernelspec": {
   "display_name": "Python 3 (ipykernel)",
   "language": "python",
   "name": "python3"
  },
  "language_info": {
   "codemirror_mode": {
    "name": "ipython",
    "version": 3
   },
   "file_extension": ".py",
   "mimetype": "text/x-python",
   "name": "python",
   "nbconvert_exporter": "python",
   "pygments_lexer": "ipython3",
   "version": "3.11.9"
  }
 },
 "nbformat": 4,
 "nbformat_minor": 5
}
