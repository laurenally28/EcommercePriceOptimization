{
 "cells": [
  {
   "cell_type": "code",
   "execution_count": null,
   "id": "bbe531b6-168d-49e5-8808-1fb1470c9b0b",
   "metadata": {},
   "outputs": [],
   "source": [
    "import numpy as np\n",
    "import pandas as pd\n",
    "from sklearn.preprocessing import StandardScaler\n",
    "from sklearn.metrics.pairwise import cosine_similarity\n",
    "\n",
    "spot = pd.read_csv(\"ds4420_spotify.csv\")\n",
    "spot.head()"
   ]
  },
  {
   "cell_type": "code",
   "execution_count": null,
   "id": "f29c52d7-b0a2-4293-8eff-caea7237f571",
   "metadata": {},
   "outputs": [],
   "source": [
    "# Scale the data\n",
    "num_spot = spot.iloc[:, [5, 8]].to_numpy()\n",
    "scaler = StandardScaler()\n",
    "scale_spot = scaler.fit_transform(num_spot)\n",
    "scale_spot[0:5,:]"
   ]
  },
  {
   "cell_type": "code",
   "execution_count": null,
   "id": "06b1e474-0acc-4415-8671-967fdacd6977",
   "metadata": {},
   "outputs": [],
   "source": [
    "# Example x, y, z\n",
    "x = scale_spot[0].reshape(-1, 1)\n",
    "y = scale_spot[1].reshape(-1, 1)\n",
    "z = scale_spot[10].reshape(-1, 1)\n",
    "x"
   ]
  },
  {
   "cell_type": "code",
   "execution_count": null,
   "id": "2d9709ba-d7b1-4084-816f-4ef6f8b66b4e",
   "metadata": {},
   "outputs": [],
   "source": [
    "# Calculate distances\n",
    "# Notice R and Python have slightly different norm functions due to rounding\n",
    "distances = {\n",
    "    \"L1_x_z\": np.linalg.norm(z - x, ord=1),\n",
    "    \"L1_y_z\": np.linalg.norm(z - y, ord=1),\n",
    "    \"L2_x_z\": np.linalg.norm(z - x, ord=2),\n",
    "    \"L2_y_z\": np.linalg.norm(z - y, ord=2),\n",
    "    \"Linf_x_z\": np.linalg.norm(z - x, ord=np.inf),\n",
    "    \"Linf_y_z\": np.linalg.norm(z - y, ord=np.inf),\n",
    "}\n",
    "distances"
   ]
  },
  {
   "cell_type": "code",
   "execution_count": null,
   "id": "d3278e7c-568e-42ca-99f8-720bd9fce6c0",
   "metadata": {},
   "outputs": [],
   "source": [
    "# Cosine similarity\n",
    "# individual pair (z vs. x)\n",
    "print(f'S_C(z,x): {cosine_similarity(np.vstack([z.T, x.T]))[0, 1]}')\n",
    "\n",
    "# all pairs\n",
    "cosine_similarity(np.vstack([z.T, x.T, y.T]))"
   ]
  },
  {
   "cell_type": "code",
   "execution_count": null,
   "id": "a1fa03f9-910e-491a-88f0-00d4e2ec3b8b",
   "metadata": {},
   "outputs": [],
   "source": [
    "# Collaborative Filtering Example\n",
    "drg = np.array([[-5 / 3, 0, 4 / 3, 1 / 3]])\n",
    "st1 = np.array([[1, -1, 0, 0]])\n",
    "st2 = np.array([[-2, 2, 0, 0]])\n",
    "st3 = np.array([[0, 1 / 3, 4 / 3, -5 / 3]])\n",
    "st4 = np.array([[-2 / 3, 1 / 3, 0, 1 / 3]])\n",
    "\n",
    "similarity_matrix = cosine_similarity(np.vstack((drg, st1, st2, st3, st4)))\n",
    "similarity_matrix"
   ]
  },
  {
   "cell_type": "code",
   "execution_count": null,
   "id": "70a5220b-3b4e-4ee2-8e1b-6cc6a16e587e",
   "metadata": {},
   "outputs": [],
   "source": [
    "predicted_rating = (\n",
    "    similarity_matrix[0, 2] * 4 + similarity_matrix[0, 4] * 5\n",
    ") / (similarity_matrix[0, 2] + similarity_matrix[0, 4])\n",
    "predicted_rating"
   ]
  },
  {
   "cell_type": "code",
   "execution_count": null,
   "id": "3e4363cb-7540-4d33-bd52-a07afd17e439",
   "metadata": {},
   "outputs": [],
   "source": [
    "# MinMax Scaling of each Score\n",
    "# Set diagonal elements to NaN\n",
    "np.fill_diagonal(similarity_matrix, np.nan)\n",
    "\n",
    "sim_scores_scaled = pd.DataFrame(similarity_matrix).apply(\n",
    "    lambda x: (x - np.nanmin(x)) / (np.nanmax(x) - np.nanmin(x)), axis=0\n",
    ")\n",
    "\n",
    "print(sim_scores_scaled)"
   ]
  },
  {
   "cell_type": "code",
   "execution_count": null,
   "id": "07aecaf3-8358-4045-aea7-013f44a71566",
   "metadata": {},
   "outputs": [],
   "source": [
    "(.510*4 + 1*1)/(.510 + 1)"
   ]
  },
  {
   "cell_type": "code",
   "execution_count": null,
   "id": "bae61bc5-f19f-4eea-aa0d-61bb67712869",
   "metadata": {},
   "outputs": [],
   "source": [
    "# content-based filtering\n",
    "# add the \"explicit\" column to the scaled data\n",
    "explicit = spot['explicit'].astype(int).to_numpy().reshape(-1, 1)\n",
    "full_spot = np.hstack((scale_spot, explicit))\n",
    "full_spot[0:5,:]"
   ]
  },
  {
   "cell_type": "code",
   "execution_count": null,
   "id": "d3f5a512-9383-4de8-afd1-eda561e3d860",
   "metadata": {},
   "outputs": [],
   "source": [
    "# Song #11 corresponds to \"Mr. Brightside\"\n",
    "drg = full_spot[10].reshape(1, -1)\n",
    "cosine_sim_to_drg = []\n",
    "\n",
    "# calculate cosine similarity for each song relative to \"Mr. Brightside\"\n",
    "for i in range(full_spot.shape[0]):\n",
    "    temp_cosine = cosine_similarity(drg, full_spot[i].reshape(1, -1))[0, 0]\n",
    "    cosine_sim_to_drg.append(temp_cosine)\n",
    "\n",
    "similarity_df = pd.DataFrame({\n",
    "    'song': spot['song_title'],\n",
    "    'artist': spot['artist_name'],\n",
    "    'sim_scores': cosine_sim_to_drg\n",
    "})\n",
    "\n",
    "# sort the DataFrame by similarity scores in descending order\n",
    "similarity_df = similarity_df.sort_values(by='sim_scores', ascending=False)\n",
    "\n",
    "similarity_df.head()"
   ]
  },
  {
   "cell_type": "code",
   "execution_count": null,
   "id": "27771bc2-5bcd-4647-94a8-8a00c3776358",
   "metadata": {},
   "outputs": [],
   "source": [
    "# Item-Item Example\n",
    "item_mat = np.array([\n",
    "    [2, np.nan, 5, 4],\n",
    "    [5, 3, np.nan, 4],\n",
    "    [1, 5, 3, np.nan],\n",
    "    [np.nan, 3, 4, 1],\n",
    "    [3, 4, np.nan, 4]\n",
    "])\n",
    "item_mat_scaled = item_mat - np.nanmean(item_mat, axis=0)\n",
    "item_mat_scaled"
   ]
  },
  {
   "cell_type": "code",
   "execution_count": null,
   "id": "44a33f0a-7c92-4af9-9aa3-b8b3d14f11d4",
   "metadata": {},
   "outputs": [],
   "source": [
    "# Compute pairwise cosine similarities for items\n",
    "sim_scores = []\n",
    "for i in range(item_mat_scaled.shape[1] - 1):\n",
    "    for j in range(i + 1, item_mat_scaled.shape[1]):\n",
    "        SongA = item_mat_scaled[:, i]\n",
    "        SongB = item_mat_scaled[:, j]\n",
    "        shared = ~np.isnan(SongA) & ~np.isnan(SongB)\n",
    "        sim = cosine_similarity(SongA[shared].reshape(1, -1), SongB[shared].reshape(1, -1))[0, 0]\n",
    "        sim_scores.append(sim)\n",
    "\n",
    "sim_scores"
   ]
  },
  {
   "cell_type": "code",
   "execution_count": null,
   "id": "d7bf3ee9-d4b5-4e22-90fc-37218f1fcb31",
   "metadata": {},
   "outputs": [],
   "source": [
    "# Predict ratings for Student 2 and Song 4\n",
    "sim_scores = np.array(sim_scores)\n",
    "Student2_Song4_a = (\n",
    "    item_mat[2, 0] * sim_scores[2] +\n",
    "    item_mat[2, 1] * sim_scores[4] +\n",
    "    item_mat[2, 2] * sim_scores[5]\n",
    ") / (sim_scores[2] + sim_scores[4] + sim_scores[5])\n",
    "print(\"Predicted rating using all similar songs:\", Student2_Song4_a)\n",
    "\n",
    "Student2_Song4_b = (\n",
    "    item_mat[2, 0] * sim_scores[2] +\n",
    "    item_mat[2, 1] * sim_scores[4]\n",
    ") / (sim_scores[2] + sim_scores[4])\n",
    "print(\"Predicted rating using two most similar songs:\", Student2_Song4_b)"
   ]
  },
  {
   "cell_type": "code",
   "execution_count": null,
   "id": "418ffa6d-012b-4bdc-a870-c3b17e1435e3",
   "metadata": {},
   "outputs": [],
   "source": []
  }
 ],
 "metadata": {
  "kernelspec": {
   "display_name": "Python 3 (ipykernel)",
   "language": "python",
   "name": "python3"
  },
  "language_info": {
   "codemirror_mode": {
    "name": "ipython",
    "version": 3
   },
   "file_extension": ".py",
   "mimetype": "text/x-python",
   "name": "python",
   "nbconvert_exporter": "python",
   "pygments_lexer": "ipython3",
   "version": "3.11.9"
  }
 },
 "nbformat": 4,
 "nbformat_minor": 5
}
