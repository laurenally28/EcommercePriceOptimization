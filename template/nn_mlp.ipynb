{
 "cells": [
  {
   "cell_type": "code",
   "execution_count": 1,
   "id": "7de42abb-2f2e-4131-8d69-45c5e922904d",
   "metadata": {},
   "outputs": [],
   "source": [
    "import numpy as np\n",
    "import matplotlib.pyplot as plt\n",
    "\n",
    "np.random.seed(42)\n",
    "#np.random.seed(8)"
   ]
  },
  {
   "cell_type": "code",
   "execution_count": 2,
   "id": "1554e1e8-2dfc-404b-850a-4978503fa301",
   "metadata": {},
   "outputs": [],
   "source": [
    "X = np.array([[0,0,1],\n",
    "              [1,0,1],\n",
    "              [1,1,1],\n",
    "              [2,1,1],\n",
    "              [2,2,1]])\n",
    "\n",
    "#y = np.array([0,1,2,5,6])\n",
    "y = np.array([0,1,2,3,4])\n",
    "eta = 0.1\n",
    "\n",
    "# the rows of W1 correspond to the columns of X, the columns to the number of hidden nodes\n",
    "# the rows of W2 correspond to the number of hidden nodes, the columns to the dimension of the output y\n",
    "W1 = np.random.randn(3,2)\n",
    "W2 = np.random.randn(2,1)"
   ]
  },
  {
   "cell_type": "code",
   "execution_count": 3,
   "id": "31bb5f91-a3bb-4361-8a3a-8824974c9bbb",
   "metadata": {},
   "outputs": [],
   "source": [
    "# uses the ReLU activation function for h and the linear activation function for the output\n",
    "def f(x):\n",
    "    h = np.maximum(0, W1.T.dot(x))\n",
    "    return W2.T.dot(h)"
   ]
  },
  {
   "cell_type": "code",
   "execution_count": 4,
   "id": "6c2e57b8-2a1f-461d-b9a9-1335b040ade5",
   "metadata": {},
   "outputs": [],
   "source": [
    "# keep track of gradient descent errors\n",
    "# to monitor convergence\n",
    "errors = []\n",
    "epochs = 400\n",
    "n = X.shape[0]\n",
    "for epoch in range(epochs):\n",
    "    dW2 = 0\n",
    "    for i, j in enumerate(y):\n",
    "        x = np.reshape(X[i], (3,1))\n",
    "        h = np.maximum(0, W1.T.dot(x))\n",
    "        dW2 += (2/n) * (f(x) - y[i])*h\n",
    "\n",
    "    W2 = W2 - eta * dW2\n",
    "    \n",
    "    dW1 = 0\n",
    "    for i, j in enumerate(y):\n",
    "        x = np.reshape(X[i], (3,1))\n",
    "        h = np.maximum(0, W1.T.dot(x))\n",
    "        mat1 = np.heaviside(h, 0)\n",
    "\n",
    "        dW1 += (2/n) * (f(x) - y[i]) * np.kron((W2 * mat1).T, x)\n",
    "\n",
    "    W1 = W1 - eta * dW1\n",
    "    e = (1/n) * np.sum(np.square(f(X.T) - y))\n",
    "    errors.append(e)"
   ]
  },
  {
   "cell_type": "code",
   "execution_count": 5,
   "id": "7c6d776e-88df-48ad-a15a-f21c6ed84291",
   "metadata": {},
   "outputs": [
    {
     "name": "stdout",
     "output_type": "stream",
     "text": [
      "[[0.         1.01309836 1.98618398 2.98856299 4.01247524]]\n"
     ]
    }
   ],
   "source": [
    "print(f(X.T))"
   ]
  },
  {
   "cell_type": "code",
   "execution_count": 6,
   "id": "e6c049bf-0c40-4225-a588-cccc955bcc68",
   "metadata": {},
   "outputs": [
    {
     "data": {
      "image/png": "[encoded data removed]",
      "text/plain": [
       "<Figure size 640x480 with 1 Axes>"
      ]
     },
     "metadata": {},
     "output_type": "display_data"
    }
   ],
   "source": [
    "plt.plot(range(epochs), errors, label='line')\n",
    "plt.show()"
   ]
  },
  {
   "cell_type": "code",
   "execution_count": 7,
   "id": "50b7c4d9-f6bd-4cb7-9642-a9f1d346d7ac",
   "metadata": {},
   "outputs": [],
   "source": [
    "# Solution to final practice way below\n",
    "# Hopefully you did it yourself first\n",
    "# Why cheat when the point is to learn???"
   ]
  },
  {
   "cell_type": "code",
   "execution_count": null,
   "id": "a6e94422-07e7-4a58-9b1e-a2c3a5edf73f",
   "metadata": {},
   "outputs": [],
   "source": []
  },
  {
   "cell_type": "code",
   "execution_count": null,
   "id": "a4fc92b8-038b-4d47-9709-54b651bb67ab",
   "metadata": {},
   "outputs": [],
   "source": []
  },
  {
   "cell_type": "code",
   "execution_count": null,
   "id": "f7e57cd5-e620-46ca-b08d-ca0d8f166a9b",
   "metadata": {},
   "outputs": [],
   "source": []
  },
  {
   "cell_type": "code",
   "execution_count": null,
   "id": "55c99474-f9d0-4eec-9300-817fa624dc4a",
   "metadata": {},
   "outputs": [],
   "source": []
  },
  {
   "cell_type": "code",
   "execution_count": null,
   "id": "cd71d554-7948-4374-99b7-c001742ff60f",
   "metadata": {},
   "outputs": [],
   "source": []
  },
  {
   "cell_type": "code",
   "execution_count": null,
   "id": "65c2de24-e174-4a0b-900c-6e131751e98a",
   "metadata": {},
   "outputs": [],
   "source": []
  },
  {
   "cell_type": "code",
   "execution_count": null,
   "id": "8bdcd7ef-08ef-4103-a3bf-71a4024f5f40",
   "metadata": {},
   "outputs": [],
   "source": []
  },
  {
   "cell_type": "code",
   "execution_count": null,
   "id": "cd1d59fb-7a63-45f7-a377-8ca6a887a62e",
   "metadata": {},
   "outputs": [],
   "source": []
  },
  {
   "cell_type": "code",
   "execution_count": null,
   "id": "ef9c4bbd-859d-4ae7-8d10-1f9d9f9f0f61",
   "metadata": {},
   "outputs": [],
   "source": []
  },
  {
   "cell_type": "code",
   "execution_count": null,
   "id": "d30a224d-6e48-47ca-ae81-80e50f0abd10",
   "metadata": {},
   "outputs": [],
   "source": []
  },
  {
   "cell_type": "code",
   "execution_count": null,
   "id": "543ea620-134f-48f6-b5bc-99155374d69b",
   "metadata": {},
   "outputs": [],
   "source": []
  },
  {
   "cell_type": "code",
   "execution_count": null,
   "id": "9ed4240a-4453-4aa3-9693-eb075a942088",
   "metadata": {},
   "outputs": [],
   "source": []
  },
  {
   "cell_type": "code",
   "execution_count": null,
   "id": "676f5454-f2ce-4f77-9a43-3c30b2009300",
   "metadata": {},
   "outputs": [],
   "source": []
  },
  {
   "cell_type": "code",
   "execution_count": null,
   "id": "0c01824e-0c00-4110-8ef5-83459257dbf0",
   "metadata": {},
   "outputs": [],
   "source": []
  },
  {
   "cell_type": "code",
   "execution_count": null,
   "id": "5c95d6b0-660f-40c9-9730-db9d4404a31c",
   "metadata": {},
   "outputs": [],
   "source": []
  },
  {
   "cell_type": "code",
   "execution_count": null,
   "id": "9c0cbcfa-959c-442c-9c77-e058e53d3c4d",
   "metadata": {},
   "outputs": [],
   "source": []
  },
  {
   "cell_type": "code",
   "execution_count": null,
   "id": "2ba88825-8b51-44d7-a1f8-e750a922a636",
   "metadata": {},
   "outputs": [],
   "source": []
  },
  {
   "cell_type": "code",
   "execution_count": null,
   "id": "f02e6f59-2188-40c6-84c2-ac7e473acba1",
   "metadata": {},
   "outputs": [],
   "source": []
  },
  {
   "cell_type": "code",
   "execution_count": null,
   "id": "e63539b7-0d51-4ec0-9cc9-edf0aaba96cd",
   "metadata": {},
   "outputs": [],
   "source": []
  },
  {
   "cell_type": "code",
   "execution_count": null,
   "id": "bfe15638-2cf5-46cc-baeb-ec590d60d80c",
   "metadata": {},
   "outputs": [],
   "source": []
  },
  {
   "cell_type": "code",
   "execution_count": null,
   "id": "54538983-71bf-4fe9-b8d4-5f8448ea3ae2",
   "metadata": {},
   "outputs": [],
   "source": []
  },
  {
   "cell_type": "code",
   "execution_count": null,
   "id": "9ff285d6-0159-4402-9460-349a87e85932",
   "metadata": {},
   "outputs": [],
   "source": []
  },
  {
   "cell_type": "code",
   "execution_count": null,
   "id": "44381184-254f-4207-a041-c41f21c28d40",
   "metadata": {},
   "outputs": [],
   "source": []
  },
  {
   "cell_type": "code",
   "execution_count": null,
   "id": "5de88426-3d26-49be-8c18-6ce5822e0fb8",
   "metadata": {},
   "outputs": [],
   "source": []
  },
  {
   "cell_type": "code",
   "execution_count": null,
   "id": "929c893b-751e-46ca-84a6-f17d8f613ada",
   "metadata": {},
   "outputs": [],
   "source": []
  },
  {
   "cell_type": "code",
   "execution_count": null,
   "id": "088e2ece-6cb0-46f7-9ac5-ecee7dd5fbd6",
   "metadata": {},
   "outputs": [],
   "source": []
  },
  {
   "cell_type": "code",
   "execution_count": null,
   "id": "62f3a131-ac5b-45ef-9fd1-092e1ed2a507",
   "metadata": {},
   "outputs": [],
   "source": []
  },
  {
   "cell_type": "code",
   "execution_count": null,
   "id": "02390495-ce42-4204-bbff-8847757ed098",
   "metadata": {},
   "outputs": [],
   "source": []
  },
  {
   "cell_type": "code",
   "execution_count": null,
   "id": "afc63988-55f2-4ce5-87c6-52321fabbfb3",
   "metadata": {},
   "outputs": [],
   "source": []
  },
  {
   "cell_type": "code",
   "execution_count": null,
   "id": "1554b627-e669-461e-a433-edebefba8e1f",
   "metadata": {},
   "outputs": [],
   "source": []
  },
  {
   "cell_type": "code",
   "execution_count": null,
   "id": "06fb33d0-295d-40e7-ab11-b80bb79bae07",
   "metadata": {},
   "outputs": [],
   "source": []
  },
  {
   "cell_type": "code",
   "execution_count": null,
   "id": "45525e55-7cf8-4338-b502-71817cb080f9",
   "metadata": {},
   "outputs": [],
   "source": []
  },
  {
   "cell_type": "code",
   "execution_count": null,
   "id": "b584a9df-2ff2-4512-849a-b52b19c11f5e",
   "metadata": {},
   "outputs": [],
   "source": []
  },
  {
   "cell_type": "code",
   "execution_count": null,
   "id": "0dfde7d1-5b0f-4827-8252-ef4f0a1c889d",
   "metadata": {},
   "outputs": [],
   "source": []
  },
  {
   "cell_type": "code",
   "execution_count": null,
   "id": "efbb5ca1-9395-4f85-a818-9136ce3cccb1",
   "metadata": {},
   "outputs": [],
   "source": []
  },
  {
   "cell_type": "code",
   "execution_count": null,
   "id": "8f59649e-6bd7-4b1a-b778-b2de83e78d2d",
   "metadata": {},
   "outputs": [],
   "source": []
  },
  {
   "cell_type": "code",
   "execution_count": null,
   "id": "0641bdd4-1661-4d53-aeef-bac70bacf2af",
   "metadata": {},
   "outputs": [],
   "source": []
  },
  {
   "cell_type": "code",
   "execution_count": null,
   "id": "36166eec-2d20-43f1-b68c-589cf2c00dce",
   "metadata": {},
   "outputs": [],
   "source": []
  },
  {
   "cell_type": "code",
   "execution_count": 8,
   "id": "5bd1c648-2deb-4a08-bfa9-9be0cf5af808",
   "metadata": {},
   "outputs": [],
   "source": [
    "import numpy as np\n",
    "import matplotlib.pyplot as plt\n",
    "\n",
    "np.random.seed(42)\n",
    "#np.random.seed(8)"
   ]
  },
  {
   "cell_type": "code",
   "execution_count": 9,
   "id": "ded43445-ed63-4d33-ae60-5226ec016f99",
   "metadata": {},
   "outputs": [],
   "source": [
    "X = np.array([[-1,1],\n",
    "              [0,1],\n",
    "              [1,1]])\n",
    "\n",
    "y = np.array([3,0,-1])\n",
    "eta = 0.01\n",
    "\n",
    "# the rows of W1 correspond to the columns of X, the columns to the number of hidden nodes\n",
    "# the rows of W2 correspond to the number of hidden nodes, the columns to the dimension of the output y\n",
    "W1 = np.random.randn(2,2)\n",
    "W2 = np.random.randn(2,1)"
   ]
  },
  {
   "cell_type": "code",
   "execution_count": 10,
   "id": "5b75eae2-8fc5-4470-a914-360b461950f0",
   "metadata": {},
   "outputs": [],
   "source": [
    "# uses the ReLU activation function for h and the linear activation function for the output\n",
    "def f(x):\n",
    "    h = np.maximum(0, W1.T.dot(x))\n",
    "    return W2.T.dot(h)"
   ]
  },
  {
   "cell_type": "code",
   "execution_count": 11,
   "id": "4939d2a0-ecc5-4018-844d-cf6a57ef94f0",
   "metadata": {},
   "outputs": [],
   "source": [
    "# keep track of gradient descent errors\n",
    "# to monitor convergence\n",
    "errors = []\n",
    "epochs = 400\n",
    "n = X.shape[0]\n",
    "d = X.shape[1]\n",
    "for epoch in range(epochs):\n",
    "    dW2 = 0\n",
    "    for i, j in enumerate(y):\n",
    "        x = np.reshape(X[i], (d,1))\n",
    "        h = np.maximum(0, W1.T.dot(x))\n",
    "        dW2 += (2/n) * (f(x) - y[i])*h\n",
    "\n",
    "    W2 = W2 - eta * dW2\n",
    "    \n",
    "    dW1 = 0\n",
    "    for i, j in enumerate(y):\n",
    "        x = np.reshape(X[i], (d,1))\n",
    "        h = np.maximum(0, W1.T.dot(x))\n",
    "        mat1 = np.heaviside(h, 0)\n",
    "\n",
    "        dW1 += (2/n) * (f(x) - y[i]) * np.kron((W2 * mat1).T, x)\n",
    "\n",
    "    W1 = W1 - eta * dW1\n",
    "    e = (1/n) * np.sum(np.square(f(X.T) - y))\n",
    "    errors.append(e)"
   ]
  },
  {
   "cell_type": "code",
   "execution_count": 12,
   "id": "f8ef707e-8373-42b3-af15-06657e9b3c73",
   "metadata": {},
   "outputs": [
    {
     "name": "stdout",
     "output_type": "stream",
     "text": [
      "[[ 2.6666666   0.66666668 -1.33333325]]\n"
     ]
    }
   ],
   "source": [
    "print(f(X.T))"
   ]
  },
  {
   "cell_type": "code",
   "execution_count": 13,
   "id": "8ba890f6-775c-49b0-b3f1-ea6d0ca3e71e",
   "metadata": {},
   "outputs": [
    {
     "data": {
      "image/png": "[encoded data removed]",
      "text/plain": [
       "<Figure size 640x480 with 1 Axes>"
      ]
     },
     "metadata": {},
     "output_type": "display_data"
    }
   ],
   "source": [
    "plt.plot(range(epochs), errors, label='line')\n",
    "plt.show()"
   ]
  },
  {
   "cell_type": "code",
   "execution_count": 14,
   "id": "c090e90e-803d-4116-aac2-9f97fc59b2b2",
   "metadata": {},
   "outputs": [
    {
     "name": "stdout",
     "output_type": "stream",
     "text": [
      "[ 2.5987896   0.64189302 -1.31500355]\n"
     ]
    }
   ],
   "source": [
    "from sklearn.neural_network import MLPRegressor\n",
    "# check out the documentation before using: https://scikit-learn.org/1.5/modules/generated/sklearn.neural_network.MLPRegressor.html\n",
    "regr = MLPRegressor(hidden_layer_sizes=(2,), activation='relu', learning_rate_init=0.01, max_iter=400, random_state=12).fit(X, y)\n",
    "print(regr.predict(X))"
   ]
  },
  {
   "cell_type": "code",
   "execution_count": null,
   "id": "c34995cf-3f8d-42f0-bd6f-5c1fb0b5cab6",
   "metadata": {},
   "outputs": [],
   "source": []
  }
 ],
 "metadata": {
  "kernelspec": {
   "display_name": "Python 3 (ipykernel)",
   "language": "python",
   "name": "python3"
  },
  "language_info": {
   "codemirror_mode": {
    "name": "ipython",
    "version": 3
   },
   "file_extension": ".py",
   "mimetype": "text/x-python",
   "name": "python",
   "nbconvert_exporter": "python",
   "pygments_lexer": "ipython3",
   "version": "3.11.9"
  }
 },
 "nbformat": 4,
 "nbformat_minor": 5
}
